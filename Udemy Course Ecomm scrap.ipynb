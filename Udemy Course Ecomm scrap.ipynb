{
 "cells": [
  {
   "cell_type": "code",
   "execution_count": 1,
   "metadata": {},
   "outputs": [],
   "source": [
    "from bs4 import BeautifulSoup\n",
    "import requests\n",
    "import pandas as pd\n",
    "\n",
    "import urllib.parse"
   ]
  },
  {
   "cell_type": "code",
   "execution_count": 2,
   "metadata": {},
   "outputs": [],
   "source": [
    "website = 'https://www.flipkart.com/search?q=earbuds+headphones+wireless&sid=0pm%2Cfcn&as=on&as-show=on&otracker=AS_QueryStore_OrganicAutoSuggest_1_7_na_na_na&otracker1=AS_QueryStore_OrganicAutoSuggest_1_7_na_na_na&as-pos=1&as-type=RECENT&suggestionId=earbuds+headphones+wireless%7CHeadphones+%26+Earphones&requestId=4e39cf9a-892f-4fe9-bfbe-b78d6d71d2f1&as-searchtext=earbuds'"
   ]
  },
  {
   "cell_type": "code",
   "execution_count": 3,
   "metadata": {},
   "outputs": [],
   "source": [
    "response = requests.get(website)"
   ]
  },
  {
   "cell_type": "code",
   "execution_count": 4,
   "metadata": {},
   "outputs": [
    {
     "data": {
      "text/plain": [
       "200"
      ]
     },
     "execution_count": 4,
     "metadata": {},
     "output_type": "execute_result"
    }
   ],
   "source": [
    "response.status_code"
   ]
  },
  {
   "cell_type": "code",
   "execution_count": 5,
   "metadata": {},
   "outputs": [],
   "source": [
    "soup =BeautifulSoup(response.content, 'html.parser')\n"
   ]
  },
  {
   "cell_type": "code",
   "execution_count": 6,
   "metadata": {},
   "outputs": [
    {
     "data": {
      "text/plain": [
       "40"
      ]
     },
     "execution_count": 6,
     "metadata": {},
     "output_type": "execute_result"
    }
   ],
   "source": [
    "results= soup.find_all('div', {'class':'_4ddWXP'})\n",
    "len(results)"
   ]
  },
  {
   "cell_type": "code",
   "execution_count": 7,
   "metadata": {},
   "outputs": [
    {
     "data": {
      "text/plain": [
       "'FIER FGN-K1B,K1W Pack 2bluetooth,headphone Bluetooth He...'"
      ]
     },
     "execution_count": 7,
     "metadata": {},
     "output_type": "execute_result"
    }
   ],
   "source": [
    "results[10].find('a', {'class': 's1Q9rs'}).get_text()"
   ]
  },
  {
   "cell_type": "code",
   "execution_count": 8,
   "metadata": {},
   "outputs": [
    {
     "data": {
      "text/plain": [
       "'₹229'"
      ]
     },
     "execution_count": 8,
     "metadata": {},
     "output_type": "execute_result"
    }
   ],
   "source": [
    "results[10].find('div', {'class': '_30jeq3'}).get_text()"
   ]
  },
  {
   "cell_type": "code",
   "execution_count": 9,
   "metadata": {},
   "outputs": [
    {
     "data": {
      "text/plain": [
       "'3.7'"
      ]
     },
     "execution_count": 9,
     "metadata": {},
     "output_type": "execute_result"
    }
   ],
   "source": [
    "results[10].find('div', {'class': '_3LWZlK'}).get_text()"
   ]
  },
  {
   "cell_type": "code",
   "execution_count": 10,
   "metadata": {},
   "outputs": [
    {
     "data": {
      "text/plain": [
       "'(4,549)'"
      ]
     },
     "execution_count": 10,
     "metadata": {},
     "output_type": "execute_result"
    }
   ],
   "source": [
    "results[10].find('span', {'class': '_2_R_DZ'}).get_text()"
   ]
  },
  {
   "cell_type": "code",
   "execution_count": 11,
   "metadata": {},
   "outputs": [
    {
     "data": {
      "text/plain": [
       "<a class=\"s1Q9rs\" href=\"/fier-fgn-k1b-k1w-pack-2bluetooth-headphone-bluetooth-headset/p/itmae0ab8046eb7b?pid=ACCFXEKBPNDQGZGC&amp;lid=LSTACCFXEKBPNDQGZGCGZD3AY&amp;marketplace=FLIPKART&amp;q=earbuds+headphones+wireless&amp;store=0pm%2Ffcn&amp;srno=s_1_11&amp;otracker=AS_QueryStore_OrganicAutoSuggest_1_7_na_na_na&amp;otracker1=AS_QueryStore_OrganicAutoSuggest_1_7_na_na_na&amp;fm=organic&amp;iid=80a8b552-585d-48cd-aafb-c18ddb617062.ACCFXEKBPNDQGZGC.SEARCH&amp;ppt=None&amp;ppn=None&amp;ssid=blkhgf947k0000001636215237053&amp;qH=c4e6c3fecf767902\" rel=\"noopener noreferrer\" target=\"_blank\" title=\"FIER FGN-K1B,K1W Pack 2bluetooth,headphone Bluetooth Headset\">FIER FGN-K1B,K1W Pack 2bluetooth,headphone Bluetooth He...</a>"
      ]
     },
     "execution_count": 11,
     "metadata": {},
     "output_type": "execute_result"
    }
   ],
   "source": [
    "results[10].find('a', {'class': 's1Q9rs'})"
   ]
  },
  {
   "cell_type": "code",
   "execution_count": 19,
   "metadata": {},
   "outputs": [],
   "source": [
    "#Extract the URL for the product.\n",
    "\n",
    "\n",
    "url = results[10].find('a', {'class': 's1Q9rs'}).get('href')"
   ]
  },
  {
   "cell_type": "code",
   "execution_count": 20,
   "metadata": {},
   "outputs": [],
   "source": [
    "root_url = 'https://www.flipkart.com'"
   ]
  },
  {
   "cell_type": "code",
   "execution_count": 21,
   "metadata": {},
   "outputs": [],
   "source": [
    "url_combine = root_url+url"
   ]
  },
  {
   "cell_type": "code",
   "execution_count": 16,
   "metadata": {},
   "outputs": [
    {
     "data": {
      "text/plain": [
       "'/fier-fgn-k1b-k1w-pack-2bluetooth-headphone-bluetooth-headset/p/itmae0ab8046eb7b?pid=ACCFXEKBPNDQGZGC&lid=LSTACCFXEKBPNDQGZGCGZD3AY&marketplace=FLIPKART&q=earbuds+headphones+wireless&store=0pm%2Ffcn&srno=s_1_11&otracker=AS_QueryStore_OrganicAutoSuggest_1_7_na_na_na&otracker1=AS_QueryStore_OrganicAutoSuggest_1_7_na_na_na&fm=organic&iid=80a8b552-585d-48cd-aafb-c18ddb617062.ACCFXEKBPNDQGZGC.SEARCH&ppt=None&ppn=None&ssid=blkhgf947k0000001636215237053&qH=c4e6c3fecf767902'"
      ]
     },
     "execution_count": 16,
     "metadata": {},
     "output_type": "execute_result"
    }
   ],
   "source": [
    "url"
   ]
  },
  {
   "cell_type": "code",
   "execution_count": 18,
   "metadata": {},
   "outputs": [
    {
     "data": {
      "text/plain": [
       "'Black, White, On the Ear'"
      ]
     },
     "execution_count": 18,
     "metadata": {},
     "output_type": "execute_result"
    }
   ],
   "source": [
    "results[10].find('div', {'class': '_3Djpdu'}).get_text().strip()"
   ]
  },
  {
   "cell_type": "code",
   "execution_count": 22,
   "metadata": {},
   "outputs": [],
   "source": [
    "product_name = []\n",
    "\n",
    "product_price =[]\n",
    "\n",
    "review_rating =[]\n",
    "\n",
    "total_review =[]\n",
    "\n",
    "relative_url =[]\n",
    "\n",
    "\n",
    "for result in results:\n",
    "    \n",
    "    try:\n",
    "        product_name.append(result.find('a', {'class': 's1Q9rs'}).get_text())\n",
    "    \n",
    "    except:\n",
    "        product_name.append('n/a')\n",
    "        \n",
    "    try:\n",
    "        product_price.append(result.find('div', {'class': '_30jeq3'}).get_text())\n",
    "    \n",
    "    except:\n",
    "        product_price.append('n/a')\n",
    "        \n",
    "    try:\n",
    "        review_rating.append(result.find('div', {'class': '_3LWZlK'}).get_text())\n",
    "    \n",
    "    except:\n",
    "        review_rating.append('n/a')\n",
    "    \n",
    "    try:\n",
    "        total_review.append(result.find('span', {'class': '_2_R_DZ'}).get_text())\n",
    "    \n",
    "    except:\n",
    "        total_review.append('n/a')\n",
    "        \n",
    "    try:\n",
    "        relative_url.append(result.find('a', {'class': 's1Q9rs'}).get('href'))\n",
    "    \n",
    "    except:\n",
    "        relative_url.append('n/a')\n",
    "        "
   ]
  },
  {
   "cell_type": "code",
   "execution_count": 23,
   "metadata": {},
   "outputs": [],
   "source": [
    "url_combined1 =[]\n",
    "\n",
    "for link in relative_url:\n",
    "    \n",
    "    url_combined1.append(urllib.parse.urljoin(root_url, link))"
   ]
  },
  {
   "cell_type": "code",
   "execution_count": 24,
   "metadata": {},
   "outputs": [
    {
     "data": {
      "text/plain": [
       "['https://www.flipkart.com/aroma-nb136a-low-latency-wireless-gaming-earbuds-bluetooth-headset/p/itme83652e06bd49?pid=ACCG7QVCZ4QHYWYY&lid=LSTACCG7QVCZ4QHYWYYABPKK1&marketplace=FLIPKART&q=earbuds+headphones+wireless&store=0pm%2Ffcn&srno=s_1_1&otracker=AS_QueryStore_OrganicAutoSuggest_1_7_na_na_na&otracker1=AS_QueryStore_OrganicAutoSuggest_1_7_na_na_na&fm=organic&iid=en_Z2vdQZv9wWVhnudW3V3yuycXAST7p32mk6xFvffDXQsW3ksrnHK4%2BnTlwlD3RlApxjqeRjdfi0d2yMyVcWVRTA%3D%3D&ppt=None&ppn=None&ssid=blkhgf947k0000001636215237053&qH=c4e6c3fecf767902',\n",
       " 'https://www.flipkart.com/wecool-moonwalk-m1-bluetooth-earbuds-20-hours-play-time-digital-display-charging-case-headset-mic-headphones-m1v2/p/itm083efcb7bc665?pid=ACCFVN8HRFTYEN4J&lid=LSTACCFVN8HRFTYEN4J3QU4A9&marketplace=FLIPKART&q=earbuds+headphones+wireless&store=0pm%2Ffcn&srno=s_1_2&otracker=AS_QueryStore_OrganicAutoSuggest_1_7_na_na_na&otracker1=AS_QueryStore_OrganicAutoSuggest_1_7_na_na_na&fm=organic&iid=en_Z2vdQZv9wWVhnudW3V3yuycXAST7p32mk6xFvffDXQtjnExdd6GklsjCFVVxQrSYTMhi5c%2F2vB%2FnkzIY2PVN0Q%3D%3D&ppt=None&ppn=None&ssid=blkhgf947k0000001636215237053&qH=c4e6c3fecf767902',\n",
       " 'https://www.flipkart.com/truke-fit-1-gaming-mode-bluetooth-headset/p/itm746c67fcfc3aa?pid=ACCGFNTSKMNNWPVZ&lid=LSTACCGFNTSKMNNWPVZUJWCGK&marketplace=FLIPKART&q=earbuds+headphones+wireless&store=0pm%2Ffcn&srno=s_1_3&otracker=AS_QueryStore_OrganicAutoSuggest_1_7_na_na_na&otracker1=AS_QueryStore_OrganicAutoSuggest_1_7_na_na_na&fm=organic&iid=80a8b552-585d-48cd-aafb-c18ddb617062.ACCGFNTSKMNNWPVZ.SEARCH&ppt=None&ppn=None&ssid=blkhgf947k0000001636215237053&qH=c4e6c3fecf767902',\n",
       " 'https://www.flipkart.com/noise-buds-vs102-truly-wireless-bluetooth-headset/p/itm6a32c17afbbe5?pid=ACCG4RBWG8TWZRY9&lid=LSTACCG4RBWG8TWZRY9PQRJNW&marketplace=FLIPKART&q=earbuds+headphones+wireless&store=0pm%2Ffcn&srno=s_1_4&otracker=AS_QueryStore_OrganicAutoSuggest_1_7_na_na_na&otracker1=AS_QueryStore_OrganicAutoSuggest_1_7_na_na_na&fm=organic&iid=80a8b552-585d-48cd-aafb-c18ddb617062.ACCG4RBWG8TWZRY9.SEARCH&ppt=None&ppn=None&ssid=blkhgf947k0000001636215237053&qH=c4e6c3fecf767902',\n",
       " 'https://www.flipkart.com/n2b-magnet-k1-pack-2-bluetooth-headset/p/itme2949c7dbf1f8?pid=ACCG7AEBPTRXZ2WF&lid=LSTACCG7AEBPTRXZ2WF9HKGBU&marketplace=FLIPKART&q=earbuds+headphones+wireless&store=0pm%2Ffcn&srno=s_1_5&otracker=AS_QueryStore_OrganicAutoSuggest_1_7_na_na_na&otracker1=AS_QueryStore_OrganicAutoSuggest_1_7_na_na_na&fm=organic&iid=80a8b552-585d-48cd-aafb-c18ddb617062.ACCG7AEBPTRXZ2WF.SEARCH&ppt=None&ppn=None&ssid=blkhgf947k0000001636215237053&qH=c4e6c3fecf767902',\n",
       " 'https://www.flipkart.com/boat-airdopes-131-bluetooth-headset/p/itmf76c6f983fbca?pid=ACCFSDGXX3S6DVBG&lid=LSTACCFSDGXX3S6DVBGSRHQQR&marketplace=FLIPKART&q=earbuds+headphones+wireless&store=0pm%2Ffcn&spotlightTagId=BestsellerId_0pm%2Ffcn&srno=s_1_6&otracker=AS_QueryStore_OrganicAutoSuggest_1_7_na_na_na&otracker1=AS_QueryStore_OrganicAutoSuggest_1_7_na_na_na&fm=organic&iid=80a8b552-585d-48cd-aafb-c18ddb617062.ACCFSDGXX3S6DVBG.SEARCH&ppt=None&ppn=None&ssid=blkhgf947k0000001636215237053&qH=c4e6c3fecf767902',\n",
       " 'https://www.flipkart.com/boat-airdopes-131-bluetooth-headset/p/itmce34ba16c3b60?pid=ACCG48F2SGVM72HN&lid=LSTACCG48F2SGVM72HNEFORIB&marketplace=FLIPKART&q=earbuds+headphones+wireless&store=0pm%2Ffcn&srno=s_1_7&otracker=AS_QueryStore_OrganicAutoSuggest_1_7_na_na_na&otracker1=AS_QueryStore_OrganicAutoSuggest_1_7_na_na_na&fm=organic&iid=80a8b552-585d-48cd-aafb-c18ddb617062.ACCG48F2SGVM72HN.SEARCH&ppt=None&ppn=None&ssid=blkhgf947k0000001636215237053&qH=c4e6c3fecf767902',\n",
       " 'https://www.flipkart.com/aroma-nb136a-low-latency-wireless-gaming-earbuds-bluetooth-headset/p/itm907f6b01752ee?pid=ACCG7QVCAYVWHYFT&lid=LSTACCG7QVCAYVWHYFTGISEBR&marketplace=FLIPKART&q=earbuds+headphones+wireless&store=0pm%2Ffcn&srno=s_1_8&otracker=AS_QueryStore_OrganicAutoSuggest_1_7_na_na_na&otracker1=AS_QueryStore_OrganicAutoSuggest_1_7_na_na_na&fm=organic&iid=en_Z2vdQZv9wWVhnudW3V3yuycXAST7p32mk6xFvffDXQt7zwTbnt7NPszucon0bM%2Bh3%2Fr0Z%2BKgSS3AEURJCFzUmg%3D%3D&ppt=None&ppn=None&ssid=blkhgf947k0000001636215237053&qH=c4e6c3fecf767902',\n",
       " 'https://www.flipkart.com/truke-buds-s1-environmental-noise-cancellation-enc-bluetooth-headset/p/itm4f7c8ceb270b9?pid=ACCGFGCPUJMRBGK6&lid=LSTACCGFGCPUJMRBGK6U8F41D&marketplace=FLIPKART&q=earbuds+headphones+wireless&store=0pm%2Ffcn&srno=s_1_9&otracker=AS_QueryStore_OrganicAutoSuggest_1_7_na_na_na&otracker1=AS_QueryStore_OrganicAutoSuggest_1_7_na_na_na&fm=organic&iid=80a8b552-585d-48cd-aafb-c18ddb617062.ACCGFGCPUJMRBGK6.SEARCH&ppt=None&ppn=None&ssid=blkhgf947k0000001636215237053&qH=c4e6c3fecf767902',\n",
       " 'https://www.flipkart.com/realme-buds-air-2-active-noise-cancellation-anc-bluetooth-headset/p/itm7f754afa16fe3?pid=ACCFZCSJWDAZRECZ&lid=LSTACCFZCSJWDAZRECZH3OGHO&marketplace=FLIPKART&q=earbuds+headphones+wireless&store=0pm%2Ffcn&srno=s_1_10&otracker=AS_QueryStore_OrganicAutoSuggest_1_7_na_na_na&otracker1=AS_QueryStore_OrganicAutoSuggest_1_7_na_na_na&fm=organic&iid=80a8b552-585d-48cd-aafb-c18ddb617062.ACCFZCSJWDAZRECZ.SEARCH&ppt=None&ppn=None&ssid=blkhgf947k0000001636215237053&qH=c4e6c3fecf767902',\n",
       " 'https://www.flipkart.com/fier-fgn-k1b-k1w-pack-2bluetooth-headphone-bluetooth-headset/p/itmae0ab8046eb7b?pid=ACCFXEKBPNDQGZGC&lid=LSTACCFXEKBPNDQGZGCGZD3AY&marketplace=FLIPKART&q=earbuds+headphones+wireless&store=0pm%2Ffcn&srno=s_1_11&otracker=AS_QueryStore_OrganicAutoSuggest_1_7_na_na_na&otracker1=AS_QueryStore_OrganicAutoSuggest_1_7_na_na_na&fm=organic&iid=80a8b552-585d-48cd-aafb-c18ddb617062.ACCFXEKBPNDQGZGC.SEARCH&ppt=None&ppn=None&ssid=blkhgf947k0000001636215237053&qH=c4e6c3fecf767902',\n",
       " 'https://www.flipkart.com/hoppup-jumbo-30-hours-play-time-bluetooth-headset/p/itm9f4b50f6df40f?pid=ACCG3KYP7ZUTTG4Q&lid=LSTACCG3KYP7ZUTTG4Q7KXLSV&marketplace=FLIPKART&q=earbuds+headphones+wireless&store=0pm%2Ffcn&srno=s_1_12&otracker=AS_QueryStore_OrganicAutoSuggest_1_7_na_na_na&otracker1=AS_QueryStore_OrganicAutoSuggest_1_7_na_na_na&fm=organic&iid=en_Z2vdQZv9wWVhnudW3V3yuycXAST7p32mk6xFvffDXQtybgCTPMaVYTYOH120pUfofDiaZgFlZaZXHW0g6tLoog%3D%3D&ppt=None&ppn=None&ssid=blkhgf947k0000001636215237053&qH=c4e6c3fecf767902',\n",
       " 'https://www.flipkart.com/edio-bluetooth-headphone-mic-earphone-headset/p/itmb2c57a34bb141?pid=ACCG3THXHSNNYRH9&lid=LSTACCG3THXHSNNYRH9QCGGHJ&marketplace=FLIPKART&q=earbuds+headphones+wireless&store=0pm%2Ffcn&srno=s_1_13&otracker=AS_QueryStore_OrganicAutoSuggest_1_7_na_na_na&otracker1=AS_QueryStore_OrganicAutoSuggest_1_7_na_na_na&fm=organic&iid=80a8b552-585d-48cd-aafb-c18ddb617062.ACCG3THXHSNNYRH9.SEARCH&ppt=None&ppn=None&ssid=blkhgf947k0000001636215237053&qH=c4e6c3fecf767902',\n",
       " 'https://www.flipkart.com/oppo-enco-buds-24-hours-battery-life-bluetooth-headset/p/itm5fd3bf7f0ed69?pid=ACCG69FNTZANZMTE&lid=LSTACCG69FNTZANZMTEV7K5XO&marketplace=FLIPKART&q=earbuds+headphones+wireless&store=0pm%2Ffcn&srno=s_1_14&otracker=AS_QueryStore_OrganicAutoSuggest_1_7_na_na_na&otracker1=AS_QueryStore_OrganicAutoSuggest_1_7_na_na_na&fm=organic&iid=80a8b552-585d-48cd-aafb-c18ddb617062.ACCG69FNTZANZMTE.SEARCH&ppt=None&ppn=None&ssid=blkhgf947k0000001636215237053&qH=c4e6c3fecf767902',\n",
       " 'https://www.flipkart.com/boat-airdopes-131-bluetooth-headset/p/itmf77ad6e8eecf1?pid=ACCFSDGX68PUKJYE&lid=LSTACCFSDGX68PUKJYEHF5WGJ&marketplace=FLIPKART&q=earbuds+headphones+wireless&store=0pm%2Ffcn&srno=s_1_15&otracker=AS_QueryStore_OrganicAutoSuggest_1_7_na_na_na&otracker1=AS_QueryStore_OrganicAutoSuggest_1_7_na_na_na&fm=organic&iid=80a8b552-585d-48cd-aafb-c18ddb617062.ACCFSDGX68PUKJYE.SEARCH&ppt=None&ppn=None&ssid=blkhgf947k0000001636215237053&qH=c4e6c3fecf767902',\n",
       " 'https://www.flipkart.com/aroma-nb118b-corporate-wireless-15-hours-playtime-single-bluetooth-headset/p/itm09cd609a0f9b9?pid=ACCG72TYRERYNAJY&lid=LSTACCG72TYRERYNAJYNAPN58&marketplace=FLIPKART&q=earbuds+headphones+wireless&store=0pm%2Ffcn&srno=s_1_16&otracker=AS_QueryStore_OrganicAutoSuggest_1_7_na_na_na&otracker1=AS_QueryStore_OrganicAutoSuggest_1_7_na_na_na&fm=organic&iid=en_Z2vdQZv9wWVhnudW3V3yuycXAST7p32mk6xFvffDXQsAMeSShHnPutSHoNanF4S2X83gujoYOCAB47FV0UWldQ%3D%3D&ppt=None&ppn=None&ssid=blkhgf947k0000001636215237053&qH=c4e6c3fecf767902',\n",
       " 'https://www.flipkart.com/hoppup-mini-bluetooth-headset/p/itm48f6f3fe35bcf?pid=ACCFZZWWCFXY5GZB&lid=LSTACCFZZWWCFXY5GZBWMKI2Y&marketplace=FLIPKART&q=earbuds+headphones+wireless&store=0pm%2Ffcn&srno=s_1_17&otracker=AS_QueryStore_OrganicAutoSuggest_1_7_na_na_na&otracker1=AS_QueryStore_OrganicAutoSuggest_1_7_na_na_na&fm=organic&iid=80a8b552-585d-48cd-aafb-c18ddb617062.ACCFZZWWCFXY5GZB.SEARCH&ppt=None&ppn=None&ssid=blkhgf947k0000001636215237053&qH=c4e6c3fecf767902',\n",
       " 'https://www.flipkart.com/boult-audio-airbass-monopod-bluetooth-headset/p/itm3b44d7bc47691?pid=ACCFGX8CJVBFTJAZ&lid=LSTACCFGX8CJVBFTJAZRUHI5B&marketplace=FLIPKART&q=earbuds+headphones+wireless&store=0pm%2Ffcn&srno=s_1_18&otracker=AS_QueryStore_OrganicAutoSuggest_1_7_na_na_na&otracker1=AS_QueryStore_OrganicAutoSuggest_1_7_na_na_na&fm=organic&iid=80a8b552-585d-48cd-aafb-c18ddb617062.ACCFGX8CJVBFTJAZ.SEARCH&ppt=None&ppn=None&ssid=blkhgf947k0000001636215237053&qH=c4e6c3fecf767902',\n",
       " 'https://www.flipkart.com/nick-jones-twins-wireless-ear-buds-mini-bluetooth-headset/p/itm9060a9749c7d9?pid=ACCFFG7KGQRAEMDK&lid=LSTACCFFG7KGQRAEMDKGZDC3E&marketplace=FLIPKART&q=earbuds+headphones+wireless&store=0pm%2Ffcn&srno=s_1_19&otracker=AS_QueryStore_OrganicAutoSuggest_1_7_na_na_na&otracker1=AS_QueryStore_OrganicAutoSuggest_1_7_na_na_na&fm=organic&iid=80a8b552-585d-48cd-aafb-c18ddb617062.ACCFFG7KGQRAEMDK.SEARCH&ppt=None&ppn=None&ssid=blkhgf947k0000001636215237053&qH=c4e6c3fecf767902',\n",
       " 'https://www.flipkart.com/wecool-moonwalk-mini-ear-bluetooth-earbuds-16-hours-playtime-battery-indicator-charging-case-headsets-mic-headset/p/itmc940051c84511?pid=ACCFXEQF9YZHH82N&lid=LSTACCFXEQF9YZHH82N1UDBZH&marketplace=FLIPKART&q=earbuds+headphones+wireless&store=0pm%2Ffcn&srno=s_1_20&otracker=AS_QueryStore_OrganicAutoSuggest_1_7_na_na_na&otracker1=AS_QueryStore_OrganicAutoSuggest_1_7_na_na_na&fm=organic&iid=en_Z2vdQZv9wWVhnudW3V3yuycXAST7p32mk6xFvffDXQtmIgnLTuAkdEBWXifzANVeYYnDoUkY2UIL%2BWan8nTIVQ%3D%3D&ppt=None&ppn=None&ssid=blkhgf947k0000001636215237053&qH=c4e6c3fecf767902',\n",
       " 'https://www.flipkart.com/ambrane-neobuds-33-bluetooth-headset/p/itm329ade828eaed?pid=ACCFZ5ZTFXVUY7KC&lid=LSTACCFZ5ZTFXVUY7KCOYA0FN&marketplace=FLIPKART&q=earbuds+headphones+wireless&store=0pm%2Ffcn&srno=s_1_21&otracker=AS_QueryStore_OrganicAutoSuggest_1_7_na_na_na&otracker1=AS_QueryStore_OrganicAutoSuggest_1_7_na_na_na&fm=organic&iid=80a8b552-585d-48cd-aafb-c18ddb617062.ACCFZ5ZTFXVUY7KC.SEARCH&ppt=None&ppn=None&ssid=blkhgf947k0000001636215237053&qH=c4e6c3fecf767902',\n",
       " 'https://www.flipkart.com/skytop-bluetooth-headphone-mic-multicolor-ear-headset/p/itm0c8dec4087295?pid=ACCFYN7E2RA8AMDW&lid=LSTACCFYN7E2RA8AMDWDZAPQA&marketplace=FLIPKART&q=earbuds+headphones+wireless&store=0pm%2Ffcn&srno=s_1_22&otracker=AS_QueryStore_OrganicAutoSuggest_1_7_na_na_na&otracker1=AS_QueryStore_OrganicAutoSuggest_1_7_na_na_na&fm=organic&iid=80a8b552-585d-48cd-aafb-c18ddb617062.ACCFYN7E2RA8AMDW.SEARCH&ppt=None&ppn=None&ssid=blkhgf947k0000001636215237053&qH=c4e6c3fecf767902',\n",
       " 'https://www.flipkart.com/ambrane-neobuds-33-bluetooth-headset/p/itm035bb36bf6c95?pid=ACCFZ5ZTZGNFFZHR&lid=LSTACCFZ5ZTZGNFFZHRI4ESWF&marketplace=FLIPKART&q=earbuds+headphones+wireless&store=0pm%2Ffcn&srno=s_1_23&otracker=AS_QueryStore_OrganicAutoSuggest_1_7_na_na_na&otracker1=AS_QueryStore_OrganicAutoSuggest_1_7_na_na_na&fm=organic&iid=80a8b552-585d-48cd-aafb-c18ddb617062.ACCFZ5ZTZGNFFZHR.SEARCH&ppt=None&ppn=None&ssid=blkhgf947k0000001636215237053&qH=c4e6c3fecf767902',\n",
       " 'https://www.flipkart.com/aroma-nb118c-biker-wireless-15-hours-playtime-single-bluetooth-headset/p/itm0a0cc39e9a2e2?pid=ACCG72TYBATZT9HU&lid=LSTACCG72TYBATZT9HU7E0PPS&marketplace=FLIPKART&q=earbuds+headphones+wireless&store=0pm%2Ffcn&srno=s_1_24&otracker=AS_QueryStore_OrganicAutoSuggest_1_7_na_na_na&otracker1=AS_QueryStore_OrganicAutoSuggest_1_7_na_na_na&fm=organic&iid=en_Z2vdQZv9wWVhnudW3V3yuycXAST7p32mk6xFvffDXQtdAlaRZfKJfC9JmpwAl3aLYmDuCT%2FSk8R6Q1CYm%2Blejg%3D%3D&ppt=None&ppn=None&ssid=blkhgf947k0000001636215237053&qH=c4e6c3fecf767902',\n",
       " 'https://www.flipkart.com/boult-audio-airbass-combuds-bluetooth-headset/p/itm930fff9f49371?pid=ACCFVFRHCBSZFKVJ&lid=LSTACCFVFRHCBSZFKVJSADT2C&marketplace=FLIPKART&q=earbuds+headphones+wireless&store=0pm%2Ffcn&srno=s_1_25&otracker=AS_QueryStore_OrganicAutoSuggest_1_7_na_na_na&otracker1=AS_QueryStore_OrganicAutoSuggest_1_7_na_na_na&fm=organic&iid=80a8b552-585d-48cd-aafb-c18ddb617062.ACCFVFRHCBSZFKVJ.SEARCH&ppt=None&ppn=None&ssid=blkhgf947k0000001636215237053&qH=c4e6c3fecf767902',\n",
       " 'https://www.flipkart.com/dizo-realme-techlife-buds-z-bluetooth-headset/p/itm6e8e1f1ddfac1?pid=ACCG6MYHHTZDGBMV&lid=LSTACCG6MYHHTZDGBMVYKR7R4&marketplace=FLIPKART&q=earbuds+headphones+wireless&store=0pm%2Ffcn&srno=s_1_26&otracker=AS_QueryStore_OrganicAutoSuggest_1_7_na_na_na&otracker1=AS_QueryStore_OrganicAutoSuggest_1_7_na_na_na&fm=organic&iid=80a8b552-585d-48cd-aafb-c18ddb617062.ACCG6MYHHTZDGBMV.SEARCH&ppt=None&ppn=None&ssid=blkhgf947k0000001636215237053&qH=c4e6c3fecf767902',\n",
       " 'https://www.flipkart.com/dizo-realme-techlife-gopods-d-environment-noise-cancellation-enc-bluetooth-headset/p/itmbabaf67c21df1?pid=ACCGFQ24SA4SBKVR&lid=LSTACCGFQ24SA4SBKVR3DXHDY&marketplace=FLIPKART&q=earbuds+headphones+wireless&store=0pm%2Ffcn&srno=s_1_27&otracker=AS_QueryStore_OrganicAutoSuggest_1_7_na_na_na&otracker1=AS_QueryStore_OrganicAutoSuggest_1_7_na_na_na&fm=organic&iid=80a8b552-585d-48cd-aafb-c18ddb617062.ACCGFQ24SA4SBKVR.SEARCH&ppt=None&ppn=None&ssid=blkhgf947k0000001636215237053&qH=c4e6c3fecf767902',\n",
       " 'https://www.flipkart.com/aroma-nb133a-stump-true-wireless-bluetooth-earbuds-tws-headset/p/itmffcc992def16f?pid=ACCG6YEFGAN3DKYS&lid=LSTACCG6YEFGAN3DKYSJF0PUK&marketplace=FLIPKART&q=earbuds+headphones+wireless&store=0pm%2Ffcn&srno=s_1_28&otracker=AS_QueryStore_OrganicAutoSuggest_1_7_na_na_na&otracker1=AS_QueryStore_OrganicAutoSuggest_1_7_na_na_na&fm=organic&iid=en_Z2vdQZv9wWVhnudW3V3yuycXAST7p32mk6xFvffDXQs2oICSHPpqoqOTxcQHA0Tx3Z6RhqyuiL3b%2FDyvshG9zA%3D%3D&ppt=None&ppn=None&ssid=blkhgf947k0000001636215237053&qH=c4e6c3fecf767902',\n",
       " 'https://www.flipkart.com/boat-airdopes-131-bluetooth-headset/p/itmc0157ae57bf52?pid=ACCFSDGXT4HZXY4J&lid=LSTACCFSDGXT4HZXY4JQDGQOK&marketplace=FLIPKART&q=earbuds+headphones+wireless&store=0pm%2Ffcn&srno=s_1_29&otracker=AS_QueryStore_OrganicAutoSuggest_1_7_na_na_na&otracker1=AS_QueryStore_OrganicAutoSuggest_1_7_na_na_na&fm=organic&iid=80a8b552-585d-48cd-aafb-c18ddb617062.ACCFSDGXT4HZXY4J.SEARCH&ppt=None&ppn=None&ssid=blkhgf947k0000001636215237053&qH=c4e6c3fecf767902',\n",
       " 'https://www.flipkart.com/realme-buds-q2-neo-environment-noise-cancellation-enc-bluetooth-headset/p/itm0a8a34bc84567?pid=ACCG4WXWRCSUWTEG&lid=LSTACCG4WXWRCSUWTEGEUQMQV&marketplace=FLIPKART&q=earbuds+headphones+wireless&store=0pm%2Ffcn&srno=s_1_30&otracker=AS_QueryStore_OrganicAutoSuggest_1_7_na_na_na&otracker1=AS_QueryStore_OrganicAutoSuggest_1_7_na_na_na&fm=organic&iid=80a8b552-585d-48cd-aafb-c18ddb617062.ACCG4WXWRCSUWTEG.SEARCH&ppt=None&ppn=None&ssid=blkhgf947k0000001636215237053&qH=c4e6c3fecf767902',\n",
       " 'https://www.flipkart.com/microflash-touch-voice-control-led-display-earbuds-bluetooth-headset/p/itmfa8d9879a3d67?pid=ACCFZGA8VC4CZNUW&lid=LSTACCFZGA8VC4CZNUWVVGBZ2&marketplace=FLIPKART&q=earbuds+headphones+wireless&store=0pm%2Ffcn&srno=s_1_31&otracker=AS_QueryStore_OrganicAutoSuggest_1_7_na_na_na&otracker1=AS_QueryStore_OrganicAutoSuggest_1_7_na_na_na&fm=organic&iid=80a8b552-585d-48cd-aafb-c18ddb617062.ACCFZGA8VC4CZNUW.SEARCH&ppt=None&ppn=None&ssid=blkhgf947k0000001636215237053&qH=c4e6c3fecf767902',\n",
       " 'https://www.flipkart.com/wecool-freesolo-x2-bluetooth-headphones-48-hrs-playtime-touch-control-headset/p/itmb756b408b9845?pid=ACCG7DFAMW2EMEY8&lid=LSTACCG7DFAMW2EMEY8K23UZS&marketplace=FLIPKART&q=earbuds+headphones+wireless&store=0pm%2Ffcn&srno=s_1_32&otracker=AS_QueryStore_OrganicAutoSuggest_1_7_na_na_na&otracker1=AS_QueryStore_OrganicAutoSuggest_1_7_na_na_na&fm=organic&iid=en_Z2vdQZv9wWVhnudW3V3yuycXAST7p32mk6xFvffDXQuzMmgBm2hAsguTSmdE0%2Fi7mpvtoTcDWS4K%2B5%2FZp0%2F5fw%3D%3D&ppt=None&ppn=None&ssid=blkhgf947k0000001636215237053&qH=c4e6c3fecf767902',\n",
       " 'https://www.flipkart.com/ambrane-neobuds-33-bluetooth-headset/p/itm8a1c07c7ce79f?pid=ACCG6P3KCGFENNH7&lid=LSTACCG6P3KCGFENNH722547X&marketplace=FLIPKART&q=earbuds+headphones+wireless&store=0pm%2Ffcn&srno=s_1_33&otracker=AS_QueryStore_OrganicAutoSuggest_1_7_na_na_na&otracker1=AS_QueryStore_OrganicAutoSuggest_1_7_na_na_na&fm=organic&iid=80a8b552-585d-48cd-aafb-c18ddb617062.ACCG6P3KCGFENNH7.SEARCH&ppt=None&ppn=None&ssid=blkhgf947k0000001636215237053&qH=c4e6c3fecf767902',\n",
       " 'https://www.flipkart.com/avlokan-i7-wireless-bluetooth-earphone-under-headset/p/itma3ed2ae12ba9c?pid=ACCG78FS39TT6NQW&lid=LSTACCG78FS39TT6NQWHLNN19&marketplace=FLIPKART&q=earbuds+headphones+wireless&store=0pm%2Ffcn&srno=s_1_34&otracker=AS_QueryStore_OrganicAutoSuggest_1_7_na_na_na&otracker1=AS_QueryStore_OrganicAutoSuggest_1_7_na_na_na&fm=organic&iid=80a8b552-585d-48cd-aafb-c18ddb617062.ACCG78FS39TT6NQW.SEARCH&ppt=None&ppn=None&ssid=blkhgf947k0000001636215237053&qH=c4e6c3fecf767902',\n",
       " 'https://www.flipkart.com/boult-audio-airbass-xpods-tws-earbuds-20h-playtime-bluetooth-headset/p/itmb0fc12f02e664?pid=ACCG6AHNTAGG9GAE&lid=LSTACCG6AHNTAGG9GAE4HXICC&marketplace=FLIPKART&q=earbuds+headphones+wireless&store=0pm%2Ffcn&srno=s_1_35&otracker=AS_QueryStore_OrganicAutoSuggest_1_7_na_na_na&otracker1=AS_QueryStore_OrganicAutoSuggest_1_7_na_na_na&fm=organic&iid=80a8b552-585d-48cd-aafb-c18ddb617062.ACCG6AHNTAGG9GAE.SEARCH&ppt=None&ppn=None&ssid=blkhgf947k0000001636215237053&qH=c4e6c3fecf767902',\n",
       " 'https://www.flipkart.com/wecool-moonwalk-m1-bluetooth-earbuds-20-hours-play-time-digital-display-charging-case-headset-mic-headphones/p/itm3cc4e5e743f2b?pid=ACCFU62AJK9D9QWA&lid=LSTACCFU62AJK9D9QWAR4QPXI&marketplace=FLIPKART&q=earbuds+headphones+wireless&store=0pm%2Ffcn&srno=s_1_36&otracker=AS_QueryStore_OrganicAutoSuggest_1_7_na_na_na&otracker1=AS_QueryStore_OrganicAutoSuggest_1_7_na_na_na&fm=organic&iid=en_Z2vdQZv9wWVhnudW3V3yuycXAST7p32mk6xFvffDXQs6iVwhgujQwnHqAdmcSeDJJckxYju4k6OyOHHPgxFgew%3D%3D&ppt=None&ppn=None&ssid=blkhgf947k0000001636215237053&qH=c4e6c3fecf767902',\n",
       " 'https://www.flipkart.com/ambrane-h9-bluetooth-headset/p/itm06a8011d34a3f?pid=ACCFKG6KNA9FZJV8&lid=LSTACCFKG6KNA9FZJV8DAREBS&marketplace=FLIPKART&q=earbuds+headphones+wireless&store=0pm%2Ffcn&srno=s_1_37&otracker=AS_QueryStore_OrganicAutoSuggest_1_7_na_na_na&otracker1=AS_QueryStore_OrganicAutoSuggest_1_7_na_na_na&fm=organic&iid=80a8b552-585d-48cd-aafb-c18ddb617062.ACCFKG6KNA9FZJV8.SEARCH&ppt=None&ppn=None&ssid=blkhgf947k0000001636215237053&qH=c4e6c3fecf767902',\n",
       " 'https://www.flipkart.com/realme-buds-wireless-bluetooth-headset/p/itm72dd0d995680d?pid=ACCFHGZFS7GB9CVM&lid=LSTACCFHGZFS7GB9CVMAKCVCF&marketplace=FLIPKART&q=earbuds+headphones+wireless&store=0pm%2Ffcn&srno=s_1_38&otracker=AS_QueryStore_OrganicAutoSuggest_1_7_na_na_na&otracker1=AS_QueryStore_OrganicAutoSuggest_1_7_na_na_na&fm=organic&iid=80a8b552-585d-48cd-aafb-c18ddb617062.ACCFHGZFS7GB9CVM.SEARCH&ppt=None&ppn=None&ssid=blkhgf947k0000001636215237053&qH=c4e6c3fecf767902',\n",
       " 'https://www.flipkart.com/oppo-enco-buds-24-hours-battery-life-bluetooth-headset/p/itmb33414a207ad3?pid=ACCG69FNR4UWAHYW&lid=LSTACCG69FNR4UWAHYWN2MD8S&marketplace=FLIPKART&q=earbuds+headphones+wireless&store=0pm%2Ffcn&srno=s_1_39&otracker=AS_QueryStore_OrganicAutoSuggest_1_7_na_na_na&otracker1=AS_QueryStore_OrganicAutoSuggest_1_7_na_na_na&fm=organic&iid=80a8b552-585d-48cd-aafb-c18ddb617062.ACCG69FNR4UWAHYW.SEARCH&ppt=None&ppn=None&ssid=blkhgf947k0000001636215237053&qH=c4e6c3fecf767902',\n",
       " 'https://www.flipkart.com/shree-aradhana-fashion-bbd-s19-true-wireless-portable-bluetooth-headset/p/itma12ad3423925d?pid=ACCG48HEUHSZWX59&lid=LSTACCG48HEUHSZWX59XQNIGE&marketplace=FLIPKART&q=earbuds+headphones+wireless&store=0pm%2Ffcn&srno=s_1_40&otracker=AS_QueryStore_OrganicAutoSuggest_1_7_na_na_na&otracker1=AS_QueryStore_OrganicAutoSuggest_1_7_na_na_na&fm=organic&iid=en_Z2vdQZv9wWVhnudW3V3yuycXAST7p32mk6xFvffDXQs8y63Mav6SQZ%2FN9A%2BuIOpTJ8m9t3NbhCvFVp%2BXGDjm7w%3D%3D&ppt=None&ppn=None&ssid=blkhgf947k0000001636215237053&qH=c4e6c3fecf767902']"
      ]
     },
     "execution_count": 24,
     "metadata": {},
     "output_type": "execute_result"
    }
   ],
   "source": [
    "url_combined1"
   ]
  },
  {
   "cell_type": "code",
   "execution_count": 26,
   "metadata": {},
   "outputs": [],
   "source": [
    "product_overview = pd.DataFrame({'Name' : product_name, 'Price': product_price, 'Rating': review_rating, \n",
    "                                 'Review Count': total_review, 'Link': url_combined1})"
   ]
  },
  {
   "cell_type": "code",
   "execution_count": 27,
   "metadata": {},
   "outputs": [
    {
     "data": {
      "text/plain": [
       "40"
      ]
     },
     "execution_count": 27,
     "metadata": {},
     "output_type": "execute_result"
    }
   ],
   "source": [
    "len(product_overview)"
   ]
  },
  {
   "cell_type": "code",
   "execution_count": 28,
   "metadata": {},
   "outputs": [],
   "source": [
    "product_overview.to_excel('Single_page.xlsx', index = False)"
   ]
  },
  {
   "cell_type": "code",
   "execution_count": 29,
   "metadata": {},
   "outputs": [],
   "source": [
    "product_name = []\n",
    "\n",
    "product_price =[]\n",
    "\n",
    "review_rating =[]\n",
    "\n",
    "total_review =[]\n",
    "\n",
    "relative_url =[]\n",
    "\n",
    "for i in range(1,11):\n",
    "    \n",
    "    # website\n",
    "    website_all = 'https://www.flipkart.com/search?q=earbuds+headphones+wireless&sid=0pm%2Cfcn&as=on&as-show=on&otracker=AS_QueryStore_OrganicAutoSuggest_1_7_na_na_na&otracker1=AS_QueryStore_OrganicAutoSuggest_1_7_na_na_na&as-pos=1&as-type=RECENT&suggestionId=earbuds+headphones+wireless%7CHeadphones+%26+Earphones&requestId=4e39cf9a-892f-4fe9-bfbe-b78d6d71d2f1&as-searchtext=earbuds&page=' + str(i)\n",
    "    \n",
    "    # request\n",
    "    response1 = requests.get(website_all)\n",
    "    \n",
    "    # Soup object\n",
    "    soup =BeautifulSoup(response1.content, 'html.parser')\n",
    "    \n",
    "    #Results\n",
    "    results= soup.find_all('div', {'class':'_4ddWXP'})\n",
    "    \n",
    "    # Lopp through results\n",
    "    \n",
    "    for result in results:\n",
    "        \n",
    "        try:\n",
    "            product_name.append(result.find('a', {'class': 's1Q9rs'}).get_text())\n",
    "    \n",
    "        except:\n",
    "            product_name.append('n/a')\n",
    "        \n",
    "        try:\n",
    "            product_price.append(result.find('div', {'class': '_30jeq3'}).get_text())\n",
    "    \n",
    "        except:\n",
    "            product_price.append('n/a')\n",
    "        \n",
    "        try:\n",
    "            review_rating.append(result.find('div', {'class': '_3LWZlK'}).get_text())\n",
    "    \n",
    "        except:\n",
    "            review_rating.append('n/a')\n",
    "    \n",
    "        try:\n",
    "            total_review.append(result.find('span', {'class': '_2_R_DZ'}).get_text())\n",
    "    \n",
    "        except:\n",
    "            total_review.append('n/a')\n",
    "        \n",
    "        try:\n",
    "            relative_url.append(result.find('a', {'class': 's1Q9rs'}).get('href'))\n",
    "    \n",
    "        except:\n",
    "            relative_url.append('n/a')\n",
    "        \n",
    "    \n",
    "    "
   ]
  },
  {
   "cell_type": "code",
   "execution_count": 30,
   "metadata": {},
   "outputs": [],
   "source": [
    "url_combined1 =[]\n",
    "\n",
    "for link in relative_url:\n",
    "    \n",
    "    url_combined1.append(urllib.parse.urljoin(root_url, link))"
   ]
  },
  {
   "cell_type": "code",
   "execution_count": 31,
   "metadata": {},
   "outputs": [],
   "source": [
    "product_overview = pd.DataFrame({'Name' : product_name, 'Price': product_price, 'Rating': review_rating, \n",
    "                                 'Review Count': total_review, 'Link': url_combined1})"
   ]
  },
  {
   "cell_type": "code",
   "execution_count": 32,
   "metadata": {},
   "outputs": [
    {
     "data": {
      "text/html": [
       "<div>\n",
       "<style scoped>\n",
       "    .dataframe tbody tr th:only-of-type {\n",
       "        vertical-align: middle;\n",
       "    }\n",
       "\n",
       "    .dataframe tbody tr th {\n",
       "        vertical-align: top;\n",
       "    }\n",
       "\n",
       "    .dataframe thead th {\n",
       "        text-align: right;\n",
       "    }\n",
       "</style>\n",
       "<table border=\"1\" class=\"dataframe\">\n",
       "  <thead>\n",
       "    <tr style=\"text-align: right;\">\n",
       "      <th></th>\n",
       "      <th>Name</th>\n",
       "      <th>Price</th>\n",
       "      <th>Rating</th>\n",
       "      <th>Review Count</th>\n",
       "      <th>Link</th>\n",
       "    </tr>\n",
       "  </thead>\n",
       "  <tbody>\n",
       "    <tr>\n",
       "      <th>0</th>\n",
       "      <td>Aroma NB136A - LOW LATENCY WIRELESS GAMING EAR...</td>\n",
       "      <td>₹899</td>\n",
       "      <td>4.5</td>\n",
       "      <td>(31)</td>\n",
       "      <td>https://www.flipkart.com/aroma-nb136a-low-late...</td>\n",
       "    </tr>\n",
       "    <tr>\n",
       "      <th>1</th>\n",
       "      <td>WeCool Moonwalk M1 Bluetooth Earbuds with 20 h...</td>\n",
       "      <td>₹999</td>\n",
       "      <td>3.9</td>\n",
       "      <td>(5,076)</td>\n",
       "      <td>https://www.flipkart.com/wecool-moonwalk-m1-bl...</td>\n",
       "    </tr>\n",
       "    <tr>\n",
       "      <th>2</th>\n",
       "      <td>Truke Fit 1+ with Gaming Mode Bluetooth Headset</td>\n",
       "      <td>₹999</td>\n",
       "      <td>3.9</td>\n",
       "      <td>(18,451)</td>\n",
       "      <td>https://www.flipkart.com/truke-fit-1-gaming-mo...</td>\n",
       "    </tr>\n",
       "    <tr>\n",
       "      <th>3</th>\n",
       "      <td>Noise Buds VS102 Truly Wireless Bluetooth Headset</td>\n",
       "      <td>₹1,299</td>\n",
       "      <td>4.2</td>\n",
       "      <td>(14,752)</td>\n",
       "      <td>https://www.flipkart.com/noise-buds-vs102-trul...</td>\n",
       "    </tr>\n",
       "    <tr>\n",
       "      <th>4</th>\n",
       "      <td>N2B MAGNET &amp; k1 Pack of 2 Bluetooth Headset</td>\n",
       "      <td>₹257</td>\n",
       "      <td>3.5</td>\n",
       "      <td>(14,384)</td>\n",
       "      <td>https://www.flipkart.com/n2b-magnet-k1-pack-2-...</td>\n",
       "    </tr>\n",
       "    <tr>\n",
       "      <th>...</th>\n",
       "      <td>...</td>\n",
       "      <td>...</td>\n",
       "      <td>...</td>\n",
       "      <td>...</td>\n",
       "      <td>...</td>\n",
       "    </tr>\n",
       "    <tr>\n",
       "      <th>395</th>\n",
       "      <td>Aroma NB133C - YORKER TRUE WIRELESS BLUETOOTH ...</td>\n",
       "      <td>₹854</td>\n",
       "      <td>3.6</td>\n",
       "      <td>(8)</td>\n",
       "      <td>https://www.flipkart.com/aroma-nb133c-yorker-t...</td>\n",
       "    </tr>\n",
       "    <tr>\n",
       "      <th>396</th>\n",
       "      <td>Attrrix 12 True Wireless Stereo v5.0 Earbuds E...</td>\n",
       "      <td>₹649</td>\n",
       "      <td>3.2</td>\n",
       "      <td>(156)</td>\n",
       "      <td>https://www.flipkart.com/attrrix-12-true-wirel...</td>\n",
       "    </tr>\n",
       "    <tr>\n",
       "      <th>397</th>\n",
       "      <td>Wanzhow New Design With Microphone For Indoor ...</td>\n",
       "      <td>₹379</td>\n",
       "      <td>5</td>\n",
       "      <td>(4)</td>\n",
       "      <td>https://www.flipkart.com/wanzhow-new-design-mi...</td>\n",
       "    </tr>\n",
       "    <tr>\n",
       "      <th>398</th>\n",
       "      <td>NKL Air Tune (Buds) True Wireless Bluetooth He...</td>\n",
       "      <td>₹749</td>\n",
       "      <td>3.1</td>\n",
       "      <td>(467)</td>\n",
       "      <td>https://www.flipkart.com/nkl-air-tune-buds-tru...</td>\n",
       "    </tr>\n",
       "    <tr>\n",
       "      <th>399</th>\n",
       "      <td>Aroma NB133A - STUMP TRUE WIRELESS BLUETOOTH E...</td>\n",
       "      <td>₹720</td>\n",
       "      <td>3.7</td>\n",
       "      <td>(42)</td>\n",
       "      <td>https://www.flipkart.com/aroma-nb133a-stump-tr...</td>\n",
       "    </tr>\n",
       "  </tbody>\n",
       "</table>\n",
       "<p>400 rows × 5 columns</p>\n",
       "</div>"
      ],
      "text/plain": [
       "                                                  Name   Price Rating  \\\n",
       "0    Aroma NB136A - LOW LATENCY WIRELESS GAMING EAR...    ₹899    4.5   \n",
       "1    WeCool Moonwalk M1 Bluetooth Earbuds with 20 h...    ₹999    3.9   \n",
       "2      Truke Fit 1+ with Gaming Mode Bluetooth Headset    ₹999    3.9   \n",
       "3    Noise Buds VS102 Truly Wireless Bluetooth Headset  ₹1,299    4.2   \n",
       "4          N2B MAGNET & k1 Pack of 2 Bluetooth Headset    ₹257    3.5   \n",
       "..                                                 ...     ...    ...   \n",
       "395  Aroma NB133C - YORKER TRUE WIRELESS BLUETOOTH ...    ₹854    3.6   \n",
       "396  Attrrix 12 True Wireless Stereo v5.0 Earbuds E...    ₹649    3.2   \n",
       "397  Wanzhow New Design With Microphone For Indoor ...    ₹379      5   \n",
       "398  NKL Air Tune (Buds) True Wireless Bluetooth He...    ₹749    3.1   \n",
       "399  Aroma NB133A - STUMP TRUE WIRELESS BLUETOOTH E...    ₹720    3.7   \n",
       "\n",
       "    Review Count                                               Link  \n",
       "0           (31)  https://www.flipkart.com/aroma-nb136a-low-late...  \n",
       "1        (5,076)  https://www.flipkart.com/wecool-moonwalk-m1-bl...  \n",
       "2       (18,451)  https://www.flipkart.com/truke-fit-1-gaming-mo...  \n",
       "3       (14,752)  https://www.flipkart.com/noise-buds-vs102-trul...  \n",
       "4       (14,384)  https://www.flipkart.com/n2b-magnet-k1-pack-2-...  \n",
       "..           ...                                                ...  \n",
       "395          (8)  https://www.flipkart.com/aroma-nb133c-yorker-t...  \n",
       "396        (156)  https://www.flipkart.com/attrrix-12-true-wirel...  \n",
       "397          (4)  https://www.flipkart.com/wanzhow-new-design-mi...  \n",
       "398        (467)  https://www.flipkart.com/nkl-air-tune-buds-tru...  \n",
       "399         (42)  https://www.flipkart.com/aroma-nb133a-stump-tr...  \n",
       "\n",
       "[400 rows x 5 columns]"
      ]
     },
     "execution_count": 32,
     "metadata": {},
     "output_type": "execute_result"
    }
   ],
   "source": [
    "product_overview"
   ]
  },
  {
   "cell_type": "code",
   "execution_count": 34,
   "metadata": {},
   "outputs": [],
   "source": [
    "product_overview.to_excel('Main_Data_10Pages.xlsx', index = False)"
   ]
  },
  {
   "cell_type": "code",
   "execution_count": null,
   "metadata": {},
   "outputs": [],
   "source": []
  }
 ],
 "metadata": {
  "kernelspec": {
   "display_name": "Python 3",
   "language": "python",
   "name": "python3"
  },
  "language_info": {
   "codemirror_mode": {
    "name": "ipython",
    "version": 3
   },
   "file_extension": ".py",
   "mimetype": "text/x-python",
   "name": "python",
   "nbconvert_exporter": "python",
   "pygments_lexer": "ipython3",
   "version": "3.7.6"
  }
 },
 "nbformat": 4,
 "nbformat_minor": 4
}
